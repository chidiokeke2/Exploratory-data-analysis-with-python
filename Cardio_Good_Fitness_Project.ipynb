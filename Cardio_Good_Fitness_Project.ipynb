{
  "nbformat": 4,
  "nbformat_minor": 0,
  "metadata": {
    "colab": {
      "provenance": []
    },
    "kernelspec": {
      "name": "python3",
      "display_name": "Python 3"
    },
    "language_info": {
      "name": "python"
    }
  },
  "cells": [
    {
      "cell_type": "markdown",
      "source": [
        "**Data Dictionary**\n",
        "\n",
        "The data is about customers of the treadmill product(s) of a retail store called Cardio Good Fitness. It contains the following variables-\n",
        "\n",
        "**Product** - The model no. of the treadmill\n",
        "Age -  Age of the customer in no of years\n",
        "Gender - Gender of the customer.\n",
        "\n",
        "**Education** - Education of the customer in no. of years.\n",
        "\n",
        "**Marital Status** - Marital status of the customer.\n",
        "\n",
        "**Usage** - Avg. # times the customer wants to use the treadmill every week.\n",
        "\n",
        "**Fitness** - Self rated fitness score of the customer (5 - very fit, 1 - very unfit).\n",
        "\n",
        "**Income** - Income of the customer.\n",
        "\n",
        "**Miles**- Miles that a customer expects to run"
      ],
      "metadata": {
        "id": "YLTdllL0NMOo"
      }
    },
    {
      "cell_type": "code",
      "execution_count": 6,
      "metadata": {
        "id": "NaGKwlbWPPs6"
      },
      "outputs": [],
      "source": [
        "#importing the packages necessary for this project\n",
        "import pandas as pd\n",
        "import matplotlib.pyplot as plt\n",
        "import seaborn as sns\n",
        "import numpy as np\n"
      ]
    },
    {
      "cell_type": "code",
      "source": [
        "#loading the data set for analysis\n",
        "cardio = pd.read_csv('/content/drive/MyDrive/CardioGoodFitness.csv')\n"
      ],
      "metadata": {
        "id": "QXPDw6pP80gI"
      },
      "execution_count": 7,
      "outputs": []
    },
    {
      "cell_type": "markdown",
      "source": [
        "To understand the data,View the first 5 rows of the data set "
      ],
      "metadata": {
        "id": "009gakp9_GNi"
      }
    },
    {
      "cell_type": "code",
      "source": [
        "cardio.head()"
      ],
      "metadata": {
        "colab": {
          "base_uri": "https://localhost:8080/",
          "height": 206
        },
        "id": "DF1J6ICu9OKm",
        "outputId": "c58054a6-25d4-4bfe-efcd-46be2dd44744"
      },
      "execution_count": 8,
      "outputs": [
        {
          "output_type": "execute_result",
          "data": {
            "text/plain": [
              "  Product  Age  Gender  Education MaritalStatus  Usage  Fitness  Income  Miles\n",
              "0   TM195   18    Male         14        Single      3        4   29562    112\n",
              "1   TM195   19    Male         15        Single      2        3   31836     75\n",
              "2   TM195   19  Female         14     Partnered      4        3   30699     66\n",
              "3   TM195   19    Male         12        Single      3        3   32973     85\n",
              "4   TM195   20    Male         13     Partnered      4        2   35247     47"
            ],
            "text/html": [
              "\n",
              "  <div id=\"df-c715bb34-c679-4786-bbae-f5adc45222d3\">\n",
              "    <div class=\"colab-df-container\">\n",
              "      <div>\n",
              "<style scoped>\n",
              "    .dataframe tbody tr th:only-of-type {\n",
              "        vertical-align: middle;\n",
              "    }\n",
              "\n",
              "    .dataframe tbody tr th {\n",
              "        vertical-align: top;\n",
              "    }\n",
              "\n",
              "    .dataframe thead th {\n",
              "        text-align: right;\n",
              "    }\n",
              "</style>\n",
              "<table border=\"1\" class=\"dataframe\">\n",
              "  <thead>\n",
              "    <tr style=\"text-align: right;\">\n",
              "      <th></th>\n",
              "      <th>Product</th>\n",
              "      <th>Age</th>\n",
              "      <th>Gender</th>\n",
              "      <th>Education</th>\n",
              "      <th>MaritalStatus</th>\n",
              "      <th>Usage</th>\n",
              "      <th>Fitness</th>\n",
              "      <th>Income</th>\n",
              "      <th>Miles</th>\n",
              "    </tr>\n",
              "  </thead>\n",
              "  <tbody>\n",
              "    <tr>\n",
              "      <th>0</th>\n",
              "      <td>TM195</td>\n",
              "      <td>18</td>\n",
              "      <td>Male</td>\n",
              "      <td>14</td>\n",
              "      <td>Single</td>\n",
              "      <td>3</td>\n",
              "      <td>4</td>\n",
              "      <td>29562</td>\n",
              "      <td>112</td>\n",
              "    </tr>\n",
              "    <tr>\n",
              "      <th>1</th>\n",
              "      <td>TM195</td>\n",
              "      <td>19</td>\n",
              "      <td>Male</td>\n",
              "      <td>15</td>\n",
              "      <td>Single</td>\n",
              "      <td>2</td>\n",
              "      <td>3</td>\n",
              "      <td>31836</td>\n",
              "      <td>75</td>\n",
              "    </tr>\n",
              "    <tr>\n",
              "      <th>2</th>\n",
              "      <td>TM195</td>\n",
              "      <td>19</td>\n",
              "      <td>Female</td>\n",
              "      <td>14</td>\n",
              "      <td>Partnered</td>\n",
              "      <td>4</td>\n",
              "      <td>3</td>\n",
              "      <td>30699</td>\n",
              "      <td>66</td>\n",
              "    </tr>\n",
              "    <tr>\n",
              "      <th>3</th>\n",
              "      <td>TM195</td>\n",
              "      <td>19</td>\n",
              "      <td>Male</td>\n",
              "      <td>12</td>\n",
              "      <td>Single</td>\n",
              "      <td>3</td>\n",
              "      <td>3</td>\n",
              "      <td>32973</td>\n",
              "      <td>85</td>\n",
              "    </tr>\n",
              "    <tr>\n",
              "      <th>4</th>\n",
              "      <td>TM195</td>\n",
              "      <td>20</td>\n",
              "      <td>Male</td>\n",
              "      <td>13</td>\n",
              "      <td>Partnered</td>\n",
              "      <td>4</td>\n",
              "      <td>2</td>\n",
              "      <td>35247</td>\n",
              "      <td>47</td>\n",
              "    </tr>\n",
              "  </tbody>\n",
              "</table>\n",
              "</div>\n",
              "      <button class=\"colab-df-convert\" onclick=\"convertToInteractive('df-c715bb34-c679-4786-bbae-f5adc45222d3')\"\n",
              "              title=\"Convert this dataframe to an interactive table.\"\n",
              "              style=\"display:none;\">\n",
              "        \n",
              "  <svg xmlns=\"http://www.w3.org/2000/svg\" height=\"24px\"viewBox=\"0 0 24 24\"\n",
              "       width=\"24px\">\n",
              "    <path d=\"M0 0h24v24H0V0z\" fill=\"none\"/>\n",
              "    <path d=\"M18.56 5.44l.94 2.06.94-2.06 2.06-.94-2.06-.94-.94-2.06-.94 2.06-2.06.94zm-11 1L8.5 8.5l.94-2.06 2.06-.94-2.06-.94L8.5 2.5l-.94 2.06-2.06.94zm10 10l.94 2.06.94-2.06 2.06-.94-2.06-.94-.94-2.06-.94 2.06-2.06.94z\"/><path d=\"M17.41 7.96l-1.37-1.37c-.4-.4-.92-.59-1.43-.59-.52 0-1.04.2-1.43.59L10.3 9.45l-7.72 7.72c-.78.78-.78 2.05 0 2.83L4 21.41c.39.39.9.59 1.41.59.51 0 1.02-.2 1.41-.59l7.78-7.78 2.81-2.81c.8-.78.8-2.07 0-2.86zM5.41 20L4 18.59l7.72-7.72 1.47 1.35L5.41 20z\"/>\n",
              "  </svg>\n",
              "      </button>\n",
              "      \n",
              "  <style>\n",
              "    .colab-df-container {\n",
              "      display:flex;\n",
              "      flex-wrap:wrap;\n",
              "      gap: 12px;\n",
              "    }\n",
              "\n",
              "    .colab-df-convert {\n",
              "      background-color: #E8F0FE;\n",
              "      border: none;\n",
              "      border-radius: 50%;\n",
              "      cursor: pointer;\n",
              "      display: none;\n",
              "      fill: #1967D2;\n",
              "      height: 32px;\n",
              "      padding: 0 0 0 0;\n",
              "      width: 32px;\n",
              "    }\n",
              "\n",
              "    .colab-df-convert:hover {\n",
              "      background-color: #E2EBFA;\n",
              "      box-shadow: 0px 1px 2px rgba(60, 64, 67, 0.3), 0px 1px 3px 1px rgba(60, 64, 67, 0.15);\n",
              "      fill: #174EA6;\n",
              "    }\n",
              "\n",
              "    [theme=dark] .colab-df-convert {\n",
              "      background-color: #3B4455;\n",
              "      fill: #D2E3FC;\n",
              "    }\n",
              "\n",
              "    [theme=dark] .colab-df-convert:hover {\n",
              "      background-color: #434B5C;\n",
              "      box-shadow: 0px 1px 3px 1px rgba(0, 0, 0, 0.15);\n",
              "      filter: drop-shadow(0px 1px 2px rgba(0, 0, 0, 0.3));\n",
              "      fill: #FFFFFF;\n",
              "    }\n",
              "  </style>\n",
              "\n",
              "      <script>\n",
              "        const buttonEl =\n",
              "          document.querySelector('#df-c715bb34-c679-4786-bbae-f5adc45222d3 button.colab-df-convert');\n",
              "        buttonEl.style.display =\n",
              "          google.colab.kernel.accessAllowed ? 'block' : 'none';\n",
              "\n",
              "        async function convertToInteractive(key) {\n",
              "          const element = document.querySelector('#df-c715bb34-c679-4786-bbae-f5adc45222d3');\n",
              "          const dataTable =\n",
              "            await google.colab.kernel.invokeFunction('convertToInteractive',\n",
              "                                                     [key], {});\n",
              "          if (!dataTable) return;\n",
              "\n",
              "          const docLinkHtml = 'Like what you see? Visit the ' +\n",
              "            '<a target=\"_blank\" href=https://colab.research.google.com/notebooks/data_table.ipynb>data table notebook</a>'\n",
              "            + ' to learn more about interactive tables.';\n",
              "          element.innerHTML = '';\n",
              "          dataTable['output_type'] = 'display_data';\n",
              "          await google.colab.output.renderOutput(dataTable, element);\n",
              "          const docLink = document.createElement('div');\n",
              "          docLink.innerHTML = docLinkHtml;\n",
              "          element.appendChild(docLink);\n",
              "        }\n",
              "      </script>\n",
              "    </div>\n",
              "  </div>\n",
              "  "
            ]
          },
          "metadata": {},
          "execution_count": 8
        }
      ]
    },
    {
      "cell_type": "markdown",
      "source": [
        "View the number of rows and columns"
      ],
      "metadata": {
        "id": "oE4PcMbT_een"
      }
    },
    {
      "cell_type": "code",
      "source": [
        "cardio.shape"
      ],
      "metadata": {
        "colab": {
          "base_uri": "https://localhost:8080/"
        },
        "id": "Uv0SYvXP9dQx",
        "outputId": "9d9145e0-a534-4581-b920-c9a8efa928ba"
      },
      "execution_count": 9,
      "outputs": [
        {
          "output_type": "execute_result",
          "data": {
            "text/plain": [
              "(180, 9)"
            ]
          },
          "metadata": {},
          "execution_count": 9
        }
      ]
    },
    {
      "cell_type": "markdown",
      "source": [
        "Exploring some statistical features of the data set"
      ],
      "metadata": {
        "id": "u1rIMUjP_noa"
      }
    },
    {
      "cell_type": "code",
      "source": [
        "cardio.describe().T"
      ],
      "metadata": {
        "colab": {
          "base_uri": "https://localhost:8080/",
          "height": 238
        },
        "id": "XEVzNfOb9izM",
        "outputId": "c37f82bf-b153-49cb-9601-265ae96119be"
      },
      "execution_count": 10,
      "outputs": [
        {
          "output_type": "execute_result",
          "data": {
            "text/plain": [
              "           count          mean           std      min       25%      50%  \\\n",
              "Age        180.0     28.788889      6.943498     18.0     24.00     26.0   \n",
              "Education  180.0     15.572222      1.617055     12.0     14.00     16.0   \n",
              "Usage      180.0      3.455556      1.084797      2.0      3.00      3.0   \n",
              "Fitness    180.0      3.311111      0.958869      1.0      3.00      3.0   \n",
              "Income     180.0  53719.577778  16506.684226  29562.0  44058.75  50596.5   \n",
              "Miles      180.0    103.194444     51.863605     21.0     66.00     94.0   \n",
              "\n",
              "                75%       max  \n",
              "Age           33.00      50.0  \n",
              "Education     16.00      21.0  \n",
              "Usage          4.00       7.0  \n",
              "Fitness        4.00       5.0  \n",
              "Income     58668.00  104581.0  \n",
              "Miles        114.75     360.0  "
            ],
            "text/html": [
              "\n",
              "  <div id=\"df-3ae785a7-aaa5-4600-8bae-5a7e9d1af86f\">\n",
              "    <div class=\"colab-df-container\">\n",
              "      <div>\n",
              "<style scoped>\n",
              "    .dataframe tbody tr th:only-of-type {\n",
              "        vertical-align: middle;\n",
              "    }\n",
              "\n",
              "    .dataframe tbody tr th {\n",
              "        vertical-align: top;\n",
              "    }\n",
              "\n",
              "    .dataframe thead th {\n",
              "        text-align: right;\n",
              "    }\n",
              "</style>\n",
              "<table border=\"1\" class=\"dataframe\">\n",
              "  <thead>\n",
              "    <tr style=\"text-align: right;\">\n",
              "      <th></th>\n",
              "      <th>count</th>\n",
              "      <th>mean</th>\n",
              "      <th>std</th>\n",
              "      <th>min</th>\n",
              "      <th>25%</th>\n",
              "      <th>50%</th>\n",
              "      <th>75%</th>\n",
              "      <th>max</th>\n",
              "    </tr>\n",
              "  </thead>\n",
              "  <tbody>\n",
              "    <tr>\n",
              "      <th>Age</th>\n",
              "      <td>180.0</td>\n",
              "      <td>28.788889</td>\n",
              "      <td>6.943498</td>\n",
              "      <td>18.0</td>\n",
              "      <td>24.00</td>\n",
              "      <td>26.0</td>\n",
              "      <td>33.00</td>\n",
              "      <td>50.0</td>\n",
              "    </tr>\n",
              "    <tr>\n",
              "      <th>Education</th>\n",
              "      <td>180.0</td>\n",
              "      <td>15.572222</td>\n",
              "      <td>1.617055</td>\n",
              "      <td>12.0</td>\n",
              "      <td>14.00</td>\n",
              "      <td>16.0</td>\n",
              "      <td>16.00</td>\n",
              "      <td>21.0</td>\n",
              "    </tr>\n",
              "    <tr>\n",
              "      <th>Usage</th>\n",
              "      <td>180.0</td>\n",
              "      <td>3.455556</td>\n",
              "      <td>1.084797</td>\n",
              "      <td>2.0</td>\n",
              "      <td>3.00</td>\n",
              "      <td>3.0</td>\n",
              "      <td>4.00</td>\n",
              "      <td>7.0</td>\n",
              "    </tr>\n",
              "    <tr>\n",
              "      <th>Fitness</th>\n",
              "      <td>180.0</td>\n",
              "      <td>3.311111</td>\n",
              "      <td>0.958869</td>\n",
              "      <td>1.0</td>\n",
              "      <td>3.00</td>\n",
              "      <td>3.0</td>\n",
              "      <td>4.00</td>\n",
              "      <td>5.0</td>\n",
              "    </tr>\n",
              "    <tr>\n",
              "      <th>Income</th>\n",
              "      <td>180.0</td>\n",
              "      <td>53719.577778</td>\n",
              "      <td>16506.684226</td>\n",
              "      <td>29562.0</td>\n",
              "      <td>44058.75</td>\n",
              "      <td>50596.5</td>\n",
              "      <td>58668.00</td>\n",
              "      <td>104581.0</td>\n",
              "    </tr>\n",
              "    <tr>\n",
              "      <th>Miles</th>\n",
              "      <td>180.0</td>\n",
              "      <td>103.194444</td>\n",
              "      <td>51.863605</td>\n",
              "      <td>21.0</td>\n",
              "      <td>66.00</td>\n",
              "      <td>94.0</td>\n",
              "      <td>114.75</td>\n",
              "      <td>360.0</td>\n",
              "    </tr>\n",
              "  </tbody>\n",
              "</table>\n",
              "</div>\n",
              "      <button class=\"colab-df-convert\" onclick=\"convertToInteractive('df-3ae785a7-aaa5-4600-8bae-5a7e9d1af86f')\"\n",
              "              title=\"Convert this dataframe to an interactive table.\"\n",
              "              style=\"display:none;\">\n",
              "        \n",
              "  <svg xmlns=\"http://www.w3.org/2000/svg\" height=\"24px\"viewBox=\"0 0 24 24\"\n",
              "       width=\"24px\">\n",
              "    <path d=\"M0 0h24v24H0V0z\" fill=\"none\"/>\n",
              "    <path d=\"M18.56 5.44l.94 2.06.94-2.06 2.06-.94-2.06-.94-.94-2.06-.94 2.06-2.06.94zm-11 1L8.5 8.5l.94-2.06 2.06-.94-2.06-.94L8.5 2.5l-.94 2.06-2.06.94zm10 10l.94 2.06.94-2.06 2.06-.94-2.06-.94-.94-2.06-.94 2.06-2.06.94z\"/><path d=\"M17.41 7.96l-1.37-1.37c-.4-.4-.92-.59-1.43-.59-.52 0-1.04.2-1.43.59L10.3 9.45l-7.72 7.72c-.78.78-.78 2.05 0 2.83L4 21.41c.39.39.9.59 1.41.59.51 0 1.02-.2 1.41-.59l7.78-7.78 2.81-2.81c.8-.78.8-2.07 0-2.86zM5.41 20L4 18.59l7.72-7.72 1.47 1.35L5.41 20z\"/>\n",
              "  </svg>\n",
              "      </button>\n",
              "      \n",
              "  <style>\n",
              "    .colab-df-container {\n",
              "      display:flex;\n",
              "      flex-wrap:wrap;\n",
              "      gap: 12px;\n",
              "    }\n",
              "\n",
              "    .colab-df-convert {\n",
              "      background-color: #E8F0FE;\n",
              "      border: none;\n",
              "      border-radius: 50%;\n",
              "      cursor: pointer;\n",
              "      display: none;\n",
              "      fill: #1967D2;\n",
              "      height: 32px;\n",
              "      padding: 0 0 0 0;\n",
              "      width: 32px;\n",
              "    }\n",
              "\n",
              "    .colab-df-convert:hover {\n",
              "      background-color: #E2EBFA;\n",
              "      box-shadow: 0px 1px 2px rgba(60, 64, 67, 0.3), 0px 1px 3px 1px rgba(60, 64, 67, 0.15);\n",
              "      fill: #174EA6;\n",
              "    }\n",
              "\n",
              "    [theme=dark] .colab-df-convert {\n",
              "      background-color: #3B4455;\n",
              "      fill: #D2E3FC;\n",
              "    }\n",
              "\n",
              "    [theme=dark] .colab-df-convert:hover {\n",
              "      background-color: #434B5C;\n",
              "      box-shadow: 0px 1px 3px 1px rgba(0, 0, 0, 0.15);\n",
              "      filter: drop-shadow(0px 1px 2px rgba(0, 0, 0, 0.3));\n",
              "      fill: #FFFFFF;\n",
              "    }\n",
              "  </style>\n",
              "\n",
              "      <script>\n",
              "        const buttonEl =\n",
              "          document.querySelector('#df-3ae785a7-aaa5-4600-8bae-5a7e9d1af86f button.colab-df-convert');\n",
              "        buttonEl.style.display =\n",
              "          google.colab.kernel.accessAllowed ? 'block' : 'none';\n",
              "\n",
              "        async function convertToInteractive(key) {\n",
              "          const element = document.querySelector('#df-3ae785a7-aaa5-4600-8bae-5a7e9d1af86f');\n",
              "          const dataTable =\n",
              "            await google.colab.kernel.invokeFunction('convertToInteractive',\n",
              "                                                     [key], {});\n",
              "          if (!dataTable) return;\n",
              "\n",
              "          const docLinkHtml = 'Like what you see? Visit the ' +\n",
              "            '<a target=\"_blank\" href=https://colab.research.google.com/notebooks/data_table.ipynb>data table notebook</a>'\n",
              "            + ' to learn more about interactive tables.';\n",
              "          element.innerHTML = '';\n",
              "          dataTable['output_type'] = 'display_data';\n",
              "          await google.colab.output.renderOutput(dataTable, element);\n",
              "          const docLink = document.createElement('div');\n",
              "          docLink.innerHTML = docLinkHtml;\n",
              "          element.appendChild(docLink);\n",
              "        }\n",
              "      </script>\n",
              "    </div>\n",
              "  </div>\n",
              "  "
            ]
          },
          "metadata": {},
          "execution_count": 10
        }
      ]
    },
    {
      "cell_type": "markdown",
      "source": [
        "\n",
        "\n",
        "*   **Age**: The business serves a wide range of customers from young to middle aged(18-50yr old) with the average customer age approximately 29 years. 25% of these customers fall below the mean age\n",
        "*  **Education:** 75% of the customers are distributed above the average education level suggesting a substantial number  of literate customers.\n",
        "*   **Usage**: the distribution of the treadmill usage is almost the same across majority of the customers (25% percentile=3 ,50% percentile =3 ,75% percentile =4), however the maximum utility time is 7 suggesting a possible presence of outliers here.\n",
        "*   **Income**: There is a huge difference between the max income and 75th% percentile income also evidenced in the high standard deviation, this needs to be investigated for outliers. The lowest income earned by a customer is 29,562\n",
        "*   **Miles:**The average miles run by a customer is around 103miles \n",
        "and this mileage is clustered around 50% and 75% of the sample size. There is also a huge gap between the max mile and 75% percentile which requires further investigation for outliers.\n",
        "\n",
        "\n",
        "\n",
        "\n",
        "\n",
        "\n"
      ],
      "metadata": {
        "id": "KZKHNvrS97zA"
      }
    },
    {
      "cell_type": "markdown",
      "source": [
        "Check the variables and their properties"
      ],
      "metadata": {
        "id": "1Gy-xJm6AFCj"
      }
    },
    {
      "cell_type": "code",
      "source": [
        "#use the info() to view data types\n",
        "cardio.info()"
      ],
      "metadata": {
        "id": "EEIV1o679ov4",
        "colab": {
          "base_uri": "https://localhost:8080/"
        },
        "outputId": "12ca429a-7898-4b13-a176-9f73e6fe4b17"
      },
      "execution_count": 11,
      "outputs": [
        {
          "output_type": "stream",
          "name": "stdout",
          "text": [
            "<class 'pandas.core.frame.DataFrame'>\n",
            "RangeIndex: 180 entries, 0 to 179\n",
            "Data columns (total 9 columns):\n",
            " #   Column         Non-Null Count  Dtype \n",
            "---  ------         --------------  ----- \n",
            " 0   Product        180 non-null    object\n",
            " 1   Age            180 non-null    int64 \n",
            " 2   Gender         180 non-null    object\n",
            " 3   Education      180 non-null    int64 \n",
            " 4   MaritalStatus  180 non-null    object\n",
            " 5   Usage          180 non-null    int64 \n",
            " 6   Fitness        180 non-null    int64 \n",
            " 7   Income         180 non-null    int64 \n",
            " 8   Miles          180 non-null    int64 \n",
            "dtypes: int64(6), object(3)\n",
            "memory usage: 12.8+ KB\n"
          ]
        }
      ]
    },
    {
      "cell_type": "markdown",
      "source": [
        "The data contains 3 string object(categorical) variables and and 6 interger (numeric) variables"
      ],
      "metadata": {
        "id": "tYZd8F9TLN_b"
      }
    },
    {
      "cell_type": "code",
      "source": [
        "#to check for the total count of missing values and associated variables\n",
        "cardio.isnull().sum()"
      ],
      "metadata": {
        "colab": {
          "base_uri": "https://localhost:8080/"
        },
        "id": "24GEeh3aARw6",
        "outputId": "400aba4f-07ec-4476-85e2-096ef33ae9a0"
      },
      "execution_count": 12,
      "outputs": [
        {
          "output_type": "execute_result",
          "data": {
            "text/plain": [
              "Product          0\n",
              "Age              0\n",
              "Gender           0\n",
              "Education        0\n",
              "MaritalStatus    0\n",
              "Usage            0\n",
              "Fitness          0\n",
              "Income           0\n",
              "Miles            0\n",
              "dtype: int64"
            ]
          },
          "metadata": {},
          "execution_count": 12
        }
      ]
    },
    {
      "cell_type": "markdown",
      "source": [
        "The data set has no missing value"
      ],
      "metadata": {
        "id": "YsoTAhXxL7Ae"
      }
    },
    {
      "cell_type": "code",
      "source": [
        "#check for duplicate\n",
        "cardio.duplicated().sum()"
      ],
      "metadata": {
        "colab": {
          "base_uri": "https://localhost:8080/"
        },
        "id": "05D3MAsrL6uy",
        "outputId": "a9d51922-7b05-4bc5-f6fb-83f9e38f6731"
      },
      "execution_count": 13,
      "outputs": [
        {
          "output_type": "execute_result",
          "data": {
            "text/plain": [
              "0"
            ]
          },
          "metadata": {},
          "execution_count": 13
        }
      ]
    },
    {
      "cell_type": "markdown",
      "source": [
        "In order to approach the business question, we can group the customers by the products they subscribe to and analyse customers' profiles per product. We start by visualising the different product categories available."
      ],
      "metadata": {
        "id": "HhR1SnTrRoTM"
      }
    },
    {
      "cell_type": "code",
      "source": [
        "#use countplot to  show distribution of different products\n",
        "sns.countplot(data = cardio, x = 'Product')\n",
        "plt.title('Product Categories');"
      ],
      "metadata": {
        "colab": {
          "base_uri": "https://localhost:8080/",
          "height": 295
        },
        "id": "N-mOJvbeSomr",
        "outputId": "34614a3d-b02e-405f-b6ba-71837eb6f8e4"
      },
      "execution_count": 14,
      "outputs": [
        {
          "output_type": "display_data",
          "data": {
            "text/plain": [
              "<Figure size 432x288 with 1 Axes>"
            ],
            "image/png": "[encoded data removed]"
          },
          "metadata": {
            "needs_background": "light"
          }
        }
      ]
    },
    {
      "cell_type": "markdown",
      "source": [
        "The company has 3 products(TM195,TM498,TM798) with customers patronizing TM195 most while TM798 has the least patronization."
      ],
      "metadata": {
        "id": "pSnV6dGlTFjM"
      }
    },
    {
      "cell_type": "code",
      "source": [
        "#creating dataframes for the different product categories to aid objective anaysis\n",
        "TM195 = cardio[cardio['Product'] == 'TM195']\n",
        "TM498 = cardio[cardio['Product'] == 'TM498']\n",
        "TM798 = cardio[cardio['Product'] == 'TM798']"
      ],
      "metadata": {
        "id": "yMegOOBESLbk"
      },
      "execution_count": 15,
      "outputs": []
    },
    {
      "cell_type": "markdown",
      "source": [
        "We then run some sanity checks on the data grouped by product category to confirm accuracy and integrity"
      ],
      "metadata": {
        "id": "dwZD7rLpT8p1"
      }
    },
    {
      "cell_type": "code",
      "source": [
        "#using shape function to see the number of customers for each and match against total number of customers\n",
        "print('Product TM195 has',TM195.shape[0], 'customers')\n",
        "print('Product TM498 has',TM498.shape[0], 'customers')\n",
        "print('Product TM798 has',TM798.shape[0], 'customers')\n",
        "print('Total number of customers is',cardio.shape[0])"
      ],
      "metadata": {
        "colab": {
          "base_uri": "https://localhost:8080/"
        },
        "id": "nKsZNNVWUIrC",
        "outputId": "122daf47-37fc-4b32-f93d-dab52baa0cde"
      },
      "execution_count": 16,
      "outputs": [
        {
          "output_type": "stream",
          "name": "stdout",
          "text": [
            "Product TM195 has 80 customers\n",
            "Product TM498 has 60 customers\n",
            "Product TM798 has 40 customers\n",
            "Total number of customers is 180\n"
          ]
        }
      ]
    },
    {
      "cell_type": "code",
      "source": [
        "#Generating the statistical distributions/ customer profile for TM195 product\n",
        "TM195.describe().T"
      ],
      "metadata": {
        "colab": {
          "base_uri": "https://localhost:8080/",
          "height": 238
        },
        "id": "YxtRrKebWMRf",
        "outputId": "76844103-b1b9-4b98-feac-c5ff3eaa0c9e"
      },
      "execution_count": 17,
      "outputs": [
        {
          "output_type": "execute_result",
          "data": {
            "text/plain": [
              "           count        mean          std      min      25%      50%      75%  \\\n",
              "Age         80.0     28.5500     7.221452     18.0     23.0     26.0     33.0   \n",
              "Education   80.0     15.0375     1.216383     12.0     14.0     16.0     16.0   \n",
              "Usage       80.0      3.0875     0.782624      2.0      3.0      3.0      4.0   \n",
              "Fitness     80.0      2.9625     0.664540      1.0      3.0      3.0      3.0   \n",
              "Income      80.0  46418.0250  9075.783190  29562.0  38658.0  46617.0  53439.0   \n",
              "Miles       80.0     82.7875    28.874102     38.0     66.0     85.0     94.0   \n",
              "\n",
              "               max  \n",
              "Age           50.0  \n",
              "Education     18.0  \n",
              "Usage          5.0  \n",
              "Fitness        5.0  \n",
              "Income     68220.0  \n",
              "Miles        188.0  "
            ],
            "text/html": [
              "\n",
              "  <div id=\"df-ee674bd4-7d37-49af-958a-b83eab574735\">\n",
              "    <div class=\"colab-df-container\">\n",
              "      <div>\n",
              "<style scoped>\n",
              "    .dataframe tbody tr th:only-of-type {\n",
              "        vertical-align: middle;\n",
              "    }\n",
              "\n",
              "    .dataframe tbody tr th {\n",
              "        vertical-align: top;\n",
              "    }\n",
              "\n",
              "    .dataframe thead th {\n",
              "        text-align: right;\n",
              "    }\n",
              "</style>\n",
              "<table border=\"1\" class=\"dataframe\">\n",
              "  <thead>\n",
              "    <tr style=\"text-align: right;\">\n",
              "      <th></th>\n",
              "      <th>count</th>\n",
              "      <th>mean</th>\n",
              "      <th>std</th>\n",
              "      <th>min</th>\n",
              "      <th>25%</th>\n",
              "      <th>50%</th>\n",
              "      <th>75%</th>\n",
              "      <th>max</th>\n",
              "    </tr>\n",
              "  </thead>\n",
              "  <tbody>\n",
              "    <tr>\n",
              "      <th>Age</th>\n",
              "      <td>80.0</td>\n",
              "      <td>28.5500</td>\n",
              "      <td>7.221452</td>\n",
              "      <td>18.0</td>\n",
              "      <td>23.0</td>\n",
              "      <td>26.0</td>\n",
              "      <td>33.0</td>\n",
              "      <td>50.0</td>\n",
              "    </tr>\n",
              "    <tr>\n",
              "      <th>Education</th>\n",
              "      <td>80.0</td>\n",
              "      <td>15.0375</td>\n",
              "      <td>1.216383</td>\n",
              "      <td>12.0</td>\n",
              "      <td>14.0</td>\n",
              "      <td>16.0</td>\n",
              "      <td>16.0</td>\n",
              "      <td>18.0</td>\n",
              "    </tr>\n",
              "    <tr>\n",
              "      <th>Usage</th>\n",
              "      <td>80.0</td>\n",
              "      <td>3.0875</td>\n",
              "      <td>0.782624</td>\n",
              "      <td>2.0</td>\n",
              "      <td>3.0</td>\n",
              "      <td>3.0</td>\n",
              "      <td>4.0</td>\n",
              "      <td>5.0</td>\n",
              "    </tr>\n",
              "    <tr>\n",
              "      <th>Fitness</th>\n",
              "      <td>80.0</td>\n",
              "      <td>2.9625</td>\n",
              "      <td>0.664540</td>\n",
              "      <td>1.0</td>\n",
              "      <td>3.0</td>\n",
              "      <td>3.0</td>\n",
              "      <td>3.0</td>\n",
              "      <td>5.0</td>\n",
              "    </tr>\n",
              "    <tr>\n",
              "      <th>Income</th>\n",
              "      <td>80.0</td>\n",
              "      <td>46418.0250</td>\n",
              "      <td>9075.783190</td>\n",
              "      <td>29562.0</td>\n",
              "      <td>38658.0</td>\n",
              "      <td>46617.0</td>\n",
              "      <td>53439.0</td>\n",
              "      <td>68220.0</td>\n",
              "    </tr>\n",
              "    <tr>\n",
              "      <th>Miles</th>\n",
              "      <td>80.0</td>\n",
              "      <td>82.7875</td>\n",
              "      <td>28.874102</td>\n",
              "      <td>38.0</td>\n",
              "      <td>66.0</td>\n",
              "      <td>85.0</td>\n",
              "      <td>94.0</td>\n",
              "      <td>188.0</td>\n",
              "    </tr>\n",
              "  </tbody>\n",
              "</table>\n",
              "</div>\n",
              "      <button class=\"colab-df-convert\" onclick=\"convertToInteractive('df-ee674bd4-7d37-49af-958a-b83eab574735')\"\n",
              "              title=\"Convert this dataframe to an interactive table.\"\n",
              "              style=\"display:none;\">\n",
              "        \n",
              "  <svg xmlns=\"http://www.w3.org/2000/svg\" height=\"24px\"viewBox=\"0 0 24 24\"\n",
              "       width=\"24px\">\n",
              "    <path d=\"M0 0h24v24H0V0z\" fill=\"none\"/>\n",
              "    <path d=\"M18.56 5.44l.94 2.06.94-2.06 2.06-.94-2.06-.94-.94-2.06-.94 2.06-2.06.94zm-11 1L8.5 8.5l.94-2.06 2.06-.94-2.06-.94L8.5 2.5l-.94 2.06-2.06.94zm10 10l.94 2.06.94-2.06 2.06-.94-2.06-.94-.94-2.06-.94 2.06-2.06.94z\"/><path d=\"M17.41 7.96l-1.37-1.37c-.4-.4-.92-.59-1.43-.59-.52 0-1.04.2-1.43.59L10.3 9.45l-7.72 7.72c-.78.78-.78 2.05 0 2.83L4 21.41c.39.39.9.59 1.41.59.51 0 1.02-.2 1.41-.59l7.78-7.78 2.81-2.81c.8-.78.8-2.07 0-2.86zM5.41 20L4 18.59l7.72-7.72 1.47 1.35L5.41 20z\"/>\n",
              "  </svg>\n",
              "      </button>\n",
              "      \n",
              "  <style>\n",
              "    .colab-df-container {\n",
              "      display:flex;\n",
              "      flex-wrap:wrap;\n",
              "      gap: 12px;\n",
              "    }\n",
              "\n",
              "    .colab-df-convert {\n",
              "      background-color: #E8F0FE;\n",
              "      border: none;\n",
              "      border-radius: 50%;\n",
              "      cursor: pointer;\n",
              "      display: none;\n",
              "      fill: #1967D2;\n",
              "      height: 32px;\n",
              "      padding: 0 0 0 0;\n",
              "      width: 32px;\n",
              "    }\n",
              "\n",
              "    .colab-df-convert:hover {\n",
              "      background-color: #E2EBFA;\n",
              "      box-shadow: 0px 1px 2px rgba(60, 64, 67, 0.3), 0px 1px 3px 1px rgba(60, 64, 67, 0.15);\n",
              "      fill: #174EA6;\n",
              "    }\n",
              "\n",
              "    [theme=dark] .colab-df-convert {\n",
              "      background-color: #3B4455;\n",
              "      fill: #D2E3FC;\n",
              "    }\n",
              "\n",
              "    [theme=dark] .colab-df-convert:hover {\n",
              "      background-color: #434B5C;\n",
              "      box-shadow: 0px 1px 3px 1px rgba(0, 0, 0, 0.15);\n",
              "      filter: drop-shadow(0px 1px 2px rgba(0, 0, 0, 0.3));\n",
              "      fill: #FFFFFF;\n",
              "    }\n",
              "  </style>\n",
              "\n",
              "      <script>\n",
              "        const buttonEl =\n",
              "          document.querySelector('#df-ee674bd4-7d37-49af-958a-b83eab574735 button.colab-df-convert');\n",
              "        buttonEl.style.display =\n",
              "          google.colab.kernel.accessAllowed ? 'block' : 'none';\n",
              "\n",
              "        async function convertToInteractive(key) {\n",
              "          const element = document.querySelector('#df-ee674bd4-7d37-49af-958a-b83eab574735');\n",
              "          const dataTable =\n",
              "            await google.colab.kernel.invokeFunction('convertToInteractive',\n",
              "                                                     [key], {});\n",
              "          if (!dataTable) return;\n",
              "\n",
              "          const docLinkHtml = 'Like what you see? Visit the ' +\n",
              "            '<a target=\"_blank\" href=https://colab.research.google.com/notebooks/data_table.ipynb>data table notebook</a>'\n",
              "            + ' to learn more about interactive tables.';\n",
              "          element.innerHTML = '';\n",
              "          dataTable['output_type'] = 'display_data';\n",
              "          await google.colab.output.renderOutput(dataTable, element);\n",
              "          const docLink = document.createElement('div');\n",
              "          docLink.innerHTML = docLinkHtml;\n",
              "          element.appendChild(docLink);\n",
              "        }\n",
              "      </script>\n",
              "    </div>\n",
              "  </div>\n",
              "  "
            ]
          },
          "metadata": {},
          "execution_count": 17
        }
      ]
    },
    {
      "cell_type": "code",
      "source": [
        "#Generating the statistical distributions/ customer profile for TM498 product\n",
        "TM498.describe().T"
      ],
      "metadata": {
        "colab": {
          "base_uri": "https://localhost:8080/",
          "height": 238
        },
        "id": "r2ZV0fvYXcMX",
        "outputId": "c2442efb-bb40-49d7-801f-1ac01e7885e3"
      },
      "execution_count": 18,
      "outputs": [
        {
          "output_type": "execute_result",
          "data": {
            "text/plain": [
              "           count          mean          std      min      25%      50%  \\\n",
              "Age         60.0     28.900000     6.645248     19.0     24.0     26.0   \n",
              "Education   60.0     15.116667     1.222552     12.0     14.0     16.0   \n",
              "Usage       60.0      3.066667     0.799717      2.0      3.0      3.0   \n",
              "Fitness     60.0      2.900000     0.629770      1.0      3.0      3.0   \n",
              "Income      60.0  48973.650000  8653.989388  31836.0  44911.5  49459.5   \n",
              "Miles       60.0     87.933333    33.263135     21.0     64.0     85.0   \n",
              "\n",
              "                75%      max  \n",
              "Age           33.25     48.0  \n",
              "Education     16.00     18.0  \n",
              "Usage          3.25      5.0  \n",
              "Fitness        3.00      4.0  \n",
              "Income     53439.00  67083.0  \n",
              "Miles        106.00    212.0  "
            ],
            "text/html": [
              "\n",
              "  <div id=\"df-5244299b-3231-4684-a901-b32b9b0ccde6\">\n",
              "    <div class=\"colab-df-container\">\n",
              "      <div>\n",
              "<style scoped>\n",
              "    .dataframe tbody tr th:only-of-type {\n",
              "        vertical-align: middle;\n",
              "    }\n",
              "\n",
              "    .dataframe tbody tr th {\n",
              "        vertical-align: top;\n",
              "    }\n",
              "\n",
              "    .dataframe thead th {\n",
              "        text-align: right;\n",
              "    }\n",
              "</style>\n",
              "<table border=\"1\" class=\"dataframe\">\n",
              "  <thead>\n",
              "    <tr style=\"text-align: right;\">\n",
              "      <th></th>\n",
              "      <th>count</th>\n",
              "      <th>mean</th>\n",
              "      <th>std</th>\n",
              "      <th>min</th>\n",
              "      <th>25%</th>\n",
              "      <th>50%</th>\n",
              "      <th>75%</th>\n",
              "      <th>max</th>\n",
              "    </tr>\n",
              "  </thead>\n",
              "  <tbody>\n",
              "    <tr>\n",
              "      <th>Age</th>\n",
              "      <td>60.0</td>\n",
              "      <td>28.900000</td>\n",
              "      <td>6.645248</td>\n",
              "      <td>19.0</td>\n",
              "      <td>24.0</td>\n",
              "      <td>26.0</td>\n",
              "      <td>33.25</td>\n",
              "      <td>48.0</td>\n",
              "    </tr>\n",
              "    <tr>\n",
              "      <th>Education</th>\n",
              "      <td>60.0</td>\n",
              "      <td>15.116667</td>\n",
              "      <td>1.222552</td>\n",
              "      <td>12.0</td>\n",
              "      <td>14.0</td>\n",
              "      <td>16.0</td>\n",
              "      <td>16.00</td>\n",
              "      <td>18.0</td>\n",
              "    </tr>\n",
              "    <tr>\n",
              "      <th>Usage</th>\n",
              "      <td>60.0</td>\n",
              "      <td>3.066667</td>\n",
              "      <td>0.799717</td>\n",
              "      <td>2.0</td>\n",
              "      <td>3.0</td>\n",
              "      <td>3.0</td>\n",
              "      <td>3.25</td>\n",
              "      <td>5.0</td>\n",
              "    </tr>\n",
              "    <tr>\n",
              "      <th>Fitness</th>\n",
              "      <td>60.0</td>\n",
              "      <td>2.900000</td>\n",
              "      <td>0.629770</td>\n",
              "      <td>1.0</td>\n",
              "      <td>3.0</td>\n",
              "      <td>3.0</td>\n",
              "      <td>3.00</td>\n",
              "      <td>4.0</td>\n",
              "    </tr>\n",
              "    <tr>\n",
              "      <th>Income</th>\n",
              "      <td>60.0</td>\n",
              "      <td>48973.650000</td>\n",
              "      <td>8653.989388</td>\n",
              "      <td>31836.0</td>\n",
              "      <td>44911.5</td>\n",
              "      <td>49459.5</td>\n",
              "      <td>53439.00</td>\n",
              "      <td>67083.0</td>\n",
              "    </tr>\n",
              "    <tr>\n",
              "      <th>Miles</th>\n",
              "      <td>60.0</td>\n",
              "      <td>87.933333</td>\n",
              "      <td>33.263135</td>\n",
              "      <td>21.0</td>\n",
              "      <td>64.0</td>\n",
              "      <td>85.0</td>\n",
              "      <td>106.00</td>\n",
              "      <td>212.0</td>\n",
              "    </tr>\n",
              "  </tbody>\n",
              "</table>\n",
              "</div>\n",
              "      <button class=\"colab-df-convert\" onclick=\"convertToInteractive('df-5244299b-3231-4684-a901-b32b9b0ccde6')\"\n",
              "              title=\"Convert this dataframe to an interactive table.\"\n",
              "              style=\"display:none;\">\n",
              "        \n",
              "  <svg xmlns=\"http://www.w3.org/2000/svg\" height=\"24px\"viewBox=\"0 0 24 24\"\n",
              "       width=\"24px\">\n",
              "    <path d=\"M0 0h24v24H0V0z\" fill=\"none\"/>\n",
              "    <path d=\"M18.56 5.44l.94 2.06.94-2.06 2.06-.94-2.06-.94-.94-2.06-.94 2.06-2.06.94zm-11 1L8.5 8.5l.94-2.06 2.06-.94-2.06-.94L8.5 2.5l-.94 2.06-2.06.94zm10 10l.94 2.06.94-2.06 2.06-.94-2.06-.94-.94-2.06-.94 2.06-2.06.94z\"/><path d=\"M17.41 7.96l-1.37-1.37c-.4-.4-.92-.59-1.43-.59-.52 0-1.04.2-1.43.59L10.3 9.45l-7.72 7.72c-.78.78-.78 2.05 0 2.83L4 21.41c.39.39.9.59 1.41.59.51 0 1.02-.2 1.41-.59l7.78-7.78 2.81-2.81c.8-.78.8-2.07 0-2.86zM5.41 20L4 18.59l7.72-7.72 1.47 1.35L5.41 20z\"/>\n",
              "  </svg>\n",
              "      </button>\n",
              "      \n",
              "  <style>\n",
              "    .colab-df-container {\n",
              "      display:flex;\n",
              "      flex-wrap:wrap;\n",
              "      gap: 12px;\n",
              "    }\n",
              "\n",
              "    .colab-df-convert {\n",
              "      background-color: #E8F0FE;\n",
              "      border: none;\n",
              "      border-radius: 50%;\n",
              "      cursor: pointer;\n",
              "      display: none;\n",
              "      fill: #1967D2;\n",
              "      height: 32px;\n",
              "      padding: 0 0 0 0;\n",
              "      width: 32px;\n",
              "    }\n",
              "\n",
              "    .colab-df-convert:hover {\n",
              "      background-color: #E2EBFA;\n",
              "      box-shadow: 0px 1px 2px rgba(60, 64, 67, 0.3), 0px 1px 3px 1px rgba(60, 64, 67, 0.15);\n",
              "      fill: #174EA6;\n",
              "    }\n",
              "\n",
              "    [theme=dark] .colab-df-convert {\n",
              "      background-color: #3B4455;\n",
              "      fill: #D2E3FC;\n",
              "    }\n",
              "\n",
              "    [theme=dark] .colab-df-convert:hover {\n",
              "      background-color: #434B5C;\n",
              "      box-shadow: 0px 1px 3px 1px rgba(0, 0, 0, 0.15);\n",
              "      filter: drop-shadow(0px 1px 2px rgba(0, 0, 0, 0.3));\n",
              "      fill: #FFFFFF;\n",
              "    }\n",
              "  </style>\n",
              "\n",
              "      <script>\n",
              "        const buttonEl =\n",
              "          document.querySelector('#df-5244299b-3231-4684-a901-b32b9b0ccde6 button.colab-df-convert');\n",
              "        buttonEl.style.display =\n",
              "          google.colab.kernel.accessAllowed ? 'block' : 'none';\n",
              "\n",
              "        async function convertToInteractive(key) {\n",
              "          const element = document.querySelector('#df-5244299b-3231-4684-a901-b32b9b0ccde6');\n",
              "          const dataTable =\n",
              "            await google.colab.kernel.invokeFunction('convertToInteractive',\n",
              "                                                     [key], {});\n",
              "          if (!dataTable) return;\n",
              "\n",
              "          const docLinkHtml = 'Like what you see? Visit the ' +\n",
              "            '<a target=\"_blank\" href=https://colab.research.google.com/notebooks/data_table.ipynb>data table notebook</a>'\n",
              "            + ' to learn more about interactive tables.';\n",
              "          element.innerHTML = '';\n",
              "          dataTable['output_type'] = 'display_data';\n",
              "          await google.colab.output.renderOutput(dataTable, element);\n",
              "          const docLink = document.createElement('div');\n",
              "          docLink.innerHTML = docLinkHtml;\n",
              "          element.appendChild(docLink);\n",
              "        }\n",
              "      </script>\n",
              "    </div>\n",
              "  </div>\n",
              "  "
            ]
          },
          "metadata": {},
          "execution_count": 18
        }
      ]
    },
    {
      "cell_type": "code",
      "source": [
        "##Generating the statistical distributions/ customer profile for TM798 product\n",
        "TM798.describe().T"
      ],
      "metadata": {
        "colab": {
          "base_uri": "https://localhost:8080/",
          "height": 238
        },
        "id": "OFlEMFpfXokc",
        "outputId": "071f0771-2003-4510-af47-13990b7719fe"
      },
      "execution_count": 19,
      "outputs": [
        {
          "output_type": "execute_result",
          "data": {
            "text/plain": [
              "           count       mean           std      min       25%      50%  \\\n",
              "Age         40.0     29.100      6.971738     22.0     24.75     27.0   \n",
              "Education   40.0     17.325      1.639066     14.0     16.00     18.0   \n",
              "Usage       40.0      4.775      0.946993      3.0      4.00      5.0   \n",
              "Fitness     40.0      4.625      0.667467      3.0      4.00      5.0   \n",
              "Income      40.0  75441.575  18505.836720  48556.0  58204.75  76568.5   \n",
              "Miles       40.0    166.900     60.066544     80.0    120.00    160.0   \n",
              "\n",
              "                75%       max  \n",
              "Age           30.25      48.0  \n",
              "Education     18.00      21.0  \n",
              "Usage          5.00       7.0  \n",
              "Fitness        5.00       5.0  \n",
              "Income     90886.00  104581.0  \n",
              "Miles        200.00     360.0  "
            ],
            "text/html": [
              "\n",
              "  <div id=\"df-6e079949-2d03-44f6-a0b7-96d251778e69\">\n",
              "    <div class=\"colab-df-container\">\n",
              "      <div>\n",
              "<style scoped>\n",
              "    .dataframe tbody tr th:only-of-type {\n",
              "        vertical-align: middle;\n",
              "    }\n",
              "\n",
              "    .dataframe tbody tr th {\n",
              "        vertical-align: top;\n",
              "    }\n",
              "\n",
              "    .dataframe thead th {\n",
              "        text-align: right;\n",
              "    }\n",
              "</style>\n",
              "<table border=\"1\" class=\"dataframe\">\n",
              "  <thead>\n",
              "    <tr style=\"text-align: right;\">\n",
              "      <th></th>\n",
              "      <th>count</th>\n",
              "      <th>mean</th>\n",
              "      <th>std</th>\n",
              "      <th>min</th>\n",
              "      <th>25%</th>\n",
              "      <th>50%</th>\n",
              "      <th>75%</th>\n",
              "      <th>max</th>\n",
              "    </tr>\n",
              "  </thead>\n",
              "  <tbody>\n",
              "    <tr>\n",
              "      <th>Age</th>\n",
              "      <td>40.0</td>\n",
              "      <td>29.100</td>\n",
              "      <td>6.971738</td>\n",
              "      <td>22.0</td>\n",
              "      <td>24.75</td>\n",
              "      <td>27.0</td>\n",
              "      <td>30.25</td>\n",
              "      <td>48.0</td>\n",
              "    </tr>\n",
              "    <tr>\n",
              "      <th>Education</th>\n",
              "      <td>40.0</td>\n",
              "      <td>17.325</td>\n",
              "      <td>1.639066</td>\n",
              "      <td>14.0</td>\n",
              "      <td>16.00</td>\n",
              "      <td>18.0</td>\n",
              "      <td>18.00</td>\n",
              "      <td>21.0</td>\n",
              "    </tr>\n",
              "    <tr>\n",
              "      <th>Usage</th>\n",
              "      <td>40.0</td>\n",
              "      <td>4.775</td>\n",
              "      <td>0.946993</td>\n",
              "      <td>3.0</td>\n",
              "      <td>4.00</td>\n",
              "      <td>5.0</td>\n",
              "      <td>5.00</td>\n",
              "      <td>7.0</td>\n",
              "    </tr>\n",
              "    <tr>\n",
              "      <th>Fitness</th>\n",
              "      <td>40.0</td>\n",
              "      <td>4.625</td>\n",
              "      <td>0.667467</td>\n",
              "      <td>3.0</td>\n",
              "      <td>4.00</td>\n",
              "      <td>5.0</td>\n",
              "      <td>5.00</td>\n",
              "      <td>5.0</td>\n",
              "    </tr>\n",
              "    <tr>\n",
              "      <th>Income</th>\n",
              "      <td>40.0</td>\n",
              "      <td>75441.575</td>\n",
              "      <td>18505.836720</td>\n",
              "      <td>48556.0</td>\n",
              "      <td>58204.75</td>\n",
              "      <td>76568.5</td>\n",
              "      <td>90886.00</td>\n",
              "      <td>104581.0</td>\n",
              "    </tr>\n",
              "    <tr>\n",
              "      <th>Miles</th>\n",
              "      <td>40.0</td>\n",
              "      <td>166.900</td>\n",
              "      <td>60.066544</td>\n",
              "      <td>80.0</td>\n",
              "      <td>120.00</td>\n",
              "      <td>160.0</td>\n",
              "      <td>200.00</td>\n",
              "      <td>360.0</td>\n",
              "    </tr>\n",
              "  </tbody>\n",
              "</table>\n",
              "</div>\n",
              "      <button class=\"colab-df-convert\" onclick=\"convertToInteractive('df-6e079949-2d03-44f6-a0b7-96d251778e69')\"\n",
              "              title=\"Convert this dataframe to an interactive table.\"\n",
              "              style=\"display:none;\">\n",
              "        \n",
              "  <svg xmlns=\"http://www.w3.org/2000/svg\" height=\"24px\"viewBox=\"0 0 24 24\"\n",
              "       width=\"24px\">\n",
              "    <path d=\"M0 0h24v24H0V0z\" fill=\"none\"/>\n",
              "    <path d=\"M18.56 5.44l.94 2.06.94-2.06 2.06-.94-2.06-.94-.94-2.06-.94 2.06-2.06.94zm-11 1L8.5 8.5l.94-2.06 2.06-.94-2.06-.94L8.5 2.5l-.94 2.06-2.06.94zm10 10l.94 2.06.94-2.06 2.06-.94-2.06-.94-.94-2.06-.94 2.06-2.06.94z\"/><path d=\"M17.41 7.96l-1.37-1.37c-.4-.4-.92-.59-1.43-.59-.52 0-1.04.2-1.43.59L10.3 9.45l-7.72 7.72c-.78.78-.78 2.05 0 2.83L4 21.41c.39.39.9.59 1.41.59.51 0 1.02-.2 1.41-.59l7.78-7.78 2.81-2.81c.8-.78.8-2.07 0-2.86zM5.41 20L4 18.59l7.72-7.72 1.47 1.35L5.41 20z\"/>\n",
              "  </svg>\n",
              "      </button>\n",
              "      \n",
              "  <style>\n",
              "    .colab-df-container {\n",
              "      display:flex;\n",
              "      flex-wrap:wrap;\n",
              "      gap: 12px;\n",
              "    }\n",
              "\n",
              "    .colab-df-convert {\n",
              "      background-color: #E8F0FE;\n",
              "      border: none;\n",
              "      border-radius: 50%;\n",
              "      cursor: pointer;\n",
              "      display: none;\n",
              "      fill: #1967D2;\n",
              "      height: 32px;\n",
              "      padding: 0 0 0 0;\n",
              "      width: 32px;\n",
              "    }\n",
              "\n",
              "    .colab-df-convert:hover {\n",
              "      background-color: #E2EBFA;\n",
              "      box-shadow: 0px 1px 2px rgba(60, 64, 67, 0.3), 0px 1px 3px 1px rgba(60, 64, 67, 0.15);\n",
              "      fill: #174EA6;\n",
              "    }\n",
              "\n",
              "    [theme=dark] .colab-df-convert {\n",
              "      background-color: #3B4455;\n",
              "      fill: #D2E3FC;\n",
              "    }\n",
              "\n",
              "    [theme=dark] .colab-df-convert:hover {\n",
              "      background-color: #434B5C;\n",
              "      box-shadow: 0px 1px 3px 1px rgba(0, 0, 0, 0.15);\n",
              "      filter: drop-shadow(0px 1px 2px rgba(0, 0, 0, 0.3));\n",
              "      fill: #FFFFFF;\n",
              "    }\n",
              "  </style>\n",
              "\n",
              "      <script>\n",
              "        const buttonEl =\n",
              "          document.querySelector('#df-6e079949-2d03-44f6-a0b7-96d251778e69 button.colab-df-convert');\n",
              "        buttonEl.style.display =\n",
              "          google.colab.kernel.accessAllowed ? 'block' : 'none';\n",
              "\n",
              "        async function convertToInteractive(key) {\n",
              "          const element = document.querySelector('#df-6e079949-2d03-44f6-a0b7-96d251778e69');\n",
              "          const dataTable =\n",
              "            await google.colab.kernel.invokeFunction('convertToInteractive',\n",
              "                                                     [key], {});\n",
              "          if (!dataTable) return;\n",
              "\n",
              "          const docLinkHtml = 'Like what you see? Visit the ' +\n",
              "            '<a target=\"_blank\" href=https://colab.research.google.com/notebooks/data_table.ipynb>data table notebook</a>'\n",
              "            + ' to learn more about interactive tables.';\n",
              "          element.innerHTML = '';\n",
              "          dataTable['output_type'] = 'display_data';\n",
              "          await google.colab.output.renderOutput(dataTable, element);\n",
              "          const docLink = document.createElement('div');\n",
              "          docLink.innerHTML = docLinkHtml;\n",
              "          element.appendChild(docLink);\n",
              "        }\n",
              "      </script>\n",
              "    </div>\n",
              "  </div>\n",
              "  "
            ]
          },
          "metadata": {},
          "execution_count": 19
        }
      ]
    },
    {
      "cell_type": "markdown",
      "source": [
        "\n",
        "\n",
        "\n",
        "* **AGE:**The age profile of the customers for TMI95 is between 18yrs-50yrs old, TM498 is 19yrs-48yrs old while TM798 shows 22yrs-48yrs old. There is however, huge difference between the 75 percentile and maximum age value for all products suggesting presence of outliers, this is also evidenced in the high standard deviation in the variable.\n",
        "* **EDUCATION:** Customers using TM798 appears to be the most educated and they are seen to have 75th percentile on education level 18 with a max of 21, this is higher than their peers in TM498 and TM195\n",
        "\n",
        "*   **USAGE**: Average usage times per week is also higher among TM798 customers when compared to other product customers\n",
        "*  **FITNESS**: Fitness score is higher in TM798 customers with minimum value of 3 \n",
        "\n",
        "\n",
        "\n",
        "\n",
        "*   **INCOME**: The average customer income is lowest in TM195 customers while this is highest is TM798 customers. However, a high standard deviation and gap between 75th percentile and maximum value indicates outliers that need to be investigated further\n",
        "*   **MILES:**There is possible presence of outliers in all customer data as there is a huge gap between the 75th percentile and maximum value for all products \n",
        "\n",
        "\n",
        "\n"
      ],
      "metadata": {
        "id": "yEUYFW9tYC7r"
      }
    },
    {
      "cell_type": "markdown",
      "source": [
        "# Univariate analysis\n",
        "\n",
        "---\n",
        "\n"
      ],
      "metadata": {
        "id": "rP7VCp5nNqkU"
      }
    },
    {
      "cell_type": "markdown",
      "source": [
        "Performing Univariate analysis on categorical variables \n",
        "\n",
        "**Observing Gender**\n"
      ],
      "metadata": {
        "id": "_nNM8LW8N-Y9"
      }
    },
    {
      "cell_type": "code",
      "source": [
        "#use the subplot function to display all products in the same line for better visual comparison\n",
        "fig, axs = plt.subplots(1, 3, figsize=(12, 5))\n",
        "\n",
        "# Use the countplot() function to create a countplot for each subplot\n",
        "sns.countplot(x='Gender', data=TM195, ax=axs[0])\n",
        "sns.countplot(x='Gender', data=TM498, ax=axs[1])\n",
        "sns.countplot(x='Gender', data=TM798, ax=axs[2])\n",
        "# Get the maximum y value across all subplots for uniform scaling\n",
        "\n",
        "y_max = max([ax.get_ylim()[1] for ax in axs])\n",
        "\n",
        "# Set the y-axis limits for all subplots to be the same\n",
        "for ax in axs:\n",
        "    ax.set_ylim(0, y_max)\n",
        "\n",
        "# Add a title to each subplot\n",
        "axs[0].set_title(\"TM195 Gender Distribution\")\n",
        "axs[1].set_title(\"TM498 Gender Distribution\")\n",
        "axs[2].set_title(\"TM798 Gender Distribution\");"
      ],
      "metadata": {
        "colab": {
          "base_uri": "https://localhost:8080/",
          "height": 350
        },
        "id": "6Sb_HN6HgEeG",
        "outputId": "fcb36b00-a451-4bc9-808b-f47bbd017a3e"
      },
      "execution_count": 20,
      "outputs": [
        {
          "output_type": "display_data",
          "data": {
            "text/plain": [
              "<Figure size 864x360 with 3 Axes>"
            ],
            "image/png": "[encoded data removed]"
          },
          "metadata": {
            "needs_background": "light"
          }
        }
      ]
    },
    {
      "cell_type": "markdown",
      "source": [
        "\n",
        "\n",
        "*   The gender is evenly distributed in the sales for TM195 suggesting this might be a unisex product\n",
        "*   TM498 uptake by male is slightly higher than that of female\n",
        "\n",
        "*   There is a high significant purchase gap between male and female for TM798. This product seems to be less attractive to the female. \n",
        "\n",
        "\n",
        "\n",
        "\n"
      ],
      "metadata": {
        "id": "4yMniZtahTmS"
      }
    },
    {
      "cell_type": "markdown",
      "source": [
        "**Observing Marital Status**"
      ],
      "metadata": {
        "id": "kzuzqXuxjaUs"
      }
    },
    {
      "cell_type": "code",
      "source": [
        "#use the subplot function to display all products in the same line for better visual comparison\n",
        "fig, axs = plt.subplots(1, 3, figsize=(12, 5))\n",
        "\n",
        "# Use the countplot() function to create a countplot for each subplot\n",
        "sns.countplot(x='MaritalStatus', data=TM195, ax=axs[0])\n",
        "sns.countplot(x='MaritalStatus', data=TM498, ax=axs[1])\n",
        "sns.countplot(x='MaritalStatus', data=TM798, ax=axs[2])\n",
        "# Get the maximum y value across all subplots for uniform scaling\n",
        "\n",
        "y_max = max([ax.get_ylim()[1] for ax in axs])\n",
        "\n",
        "# Set the y-axis limits for all subplots to be the same\n",
        "for ax in axs:\n",
        "    ax.set_ylim(0, y_max)\n",
        "\n",
        "# Add a title to each subplot\n",
        "axs[0].set_title(\"TM195 Marital Status\")\n",
        "axs[1].set_title(\"TM498 Marital Status\")\n",
        "axs[2].set_title(\"TM798 Marital Status\");"
      ],
      "metadata": {
        "colab": {
          "base_uri": "https://localhost:8080/",
          "height": 350
        },
        "id": "v_BybW7yjGhe",
        "outputId": "5bf657b6-006e-4b50-9929-4a8090a8e436"
      },
      "execution_count": 21,
      "outputs": [
        {
          "output_type": "display_data",
          "data": {
            "text/plain": [
              "<Figure size 864x360 with 3 Axes>"
            ],
            "image/png": "[encoded data removed]"
          },
          "metadata": {
            "needs_background": "light"
          }
        }
      ]
    },
    {
      "cell_type": "markdown",
      "source": [
        "Customers with status as partnered shows higher patronage across all products"
      ],
      "metadata": {
        "id": "ik3-f_rLlXY-"
      }
    },
    {
      "cell_type": "markdown",
      "source": [
        "Performing univariate analysis on numerical variables\n",
        "\n",
        "**Observing age**"
      ],
      "metadata": {
        "id": "jJxrlvXgR6OY"
      }
    },
    {
      "cell_type": "code",
      "source": [
        "#use the subplot function to display all products in the same line for better visual comparison\n",
        "fig, axs = plt.subplots(1, 3, figsize=(12, 5))\n",
        "\n",
        "# Use the histplot() function to create a histogram for each subplot\n",
        "sns.histplot(x='Age', data=TM195, ax=axs[0])\n",
        "sns.histplot(x='Age', data=TM498, ax=axs[1])\n",
        "sns.histplot(x='Age', data=TM798, ax=axs[2])\n",
        "# Get the maximum y value across all subplots for uniform scaling\n",
        "\n",
        "y_max = max([ax.get_ylim()[1] for ax in axs])\n",
        "\n",
        "\n",
        "\n",
        "# Set the y-axis limits for all subplots to be the same\n",
        "for ax in axs:\n",
        "    ax.set_ylim(0, y_max)\n",
        "   \n",
        "\n",
        "# Add a title to each subplot\n",
        "axs[0].set_title(\"TM195 Age Distribution\")\n",
        "axs[1].set_title(\"TM498 Age Distribution\")\n",
        "axs[2].set_title(\"TM798 Age Distribution\");"
      ],
      "metadata": {
        "colab": {
          "base_uri": "https://localhost:8080/",
          "height": 350
        },
        "id": "Cf7zxQnNSLef",
        "outputId": "94ad18f1-cc6c-4ac8-b827-189a4101e120"
      },
      "execution_count": 22,
      "outputs": [
        {
          "output_type": "display_data",
          "data": {
            "text/plain": [
              "<Figure size 864x360 with 3 Axes>"
            ],
            "image/png": "[encoded data removed]"
          },
          "metadata": {
            "needs_background": "light"
          }
        }
      ]
    },
    {
      "cell_type": "code",
      "source": [
        "sns.boxplot(data = cardio, x = 'Product', y = 'Age')\n",
        "plt.title('Age Distribution');"
      ],
      "metadata": {
        "colab": {
          "base_uri": "https://localhost:8080/",
          "height": 295
        },
        "id": "tPF84jfLU3K5",
        "outputId": "1b317205-2b66-47d6-fdc6-9a4ba3a305a2"
      },
      "execution_count": 21,
      "outputs": [
        {
          "output_type": "display_data",
          "data": {
            "text/plain": [
              "<Figure size 432x288 with 1 Axes>"
            ],
            "image/png": "[encoded data removed]"
          },
          "metadata": {
            "needs_background": "light"
          }
        }
      ]
    },
    {
      "cell_type": "markdown",
      "source": [
        "\n",
        "\n",
        "*   The median age for TM798 customers is slightly higher than that of the other two products\n",
        "*   Outliers exists in all product data however this is more significant among TM798 customers\n",
        "\n",
        "\n",
        "*   From the boxplot,Customers of TM798 are predominantly younger when compared to the other two products \n",
        "*   The age variable is right skewed with the degree of skewness higher in TM798\n",
        "\n",
        "\n",
        "\n"
      ],
      "metadata": {
        "id": "rzieZvVLc_eA"
      }
    },
    {
      "cell_type": "markdown",
      "source": [
        "**Observing Education**"
      ],
      "metadata": {
        "id": "ouJXqn81esqH"
      }
    },
    {
      "cell_type": "code",
      "source": [
        "#use the subplot function to display all products in the same line for better visual comparison\n",
        "fig, axs = plt.subplots(1, 3, figsize=(12, 5))\n",
        "\n",
        "# Use the histplot() function to create a histogram for each subplot\n",
        "sns.histplot(x='Education', data=TM195, ax=axs[0])\n",
        "sns.histplot(x='Education', data=TM498, ax=axs[1])\n",
        "sns.histplot(x='Education', data=TM798, ax=axs[2])\n",
        "# Get the maximum y value across all subplots for uniform scaling\n",
        "\n",
        "y_max = max([ax.get_ylim()[1] for ax in axs])\n",
        "\n",
        "\n",
        "\n",
        "# Set the y-axis limits for all subplots to be the same\n",
        "for ax in axs:\n",
        "    ax.set_ylim(0, y_max)\n",
        "   \n",
        "\n",
        "# Add a title to each subplot\n",
        "axs[0].set_title(\"TM195 Years in Education\")\n",
        "axs[1].set_title(\"TM498 Years in Education\")\n",
        "axs[2].set_title(\"TM798 Years in Education\");"
      ],
      "metadata": {
        "colab": {
          "base_uri": "https://localhost:8080/",
          "height": 350
        },
        "id": "U1BwfZ2TezsA",
        "outputId": "80215057-948a-4bd5-cb2e-ad1cc1288e4e"
      },
      "execution_count": 23,
      "outputs": [
        {
          "output_type": "display_data",
          "data": {
            "text/plain": [
              "<Figure size 864x360 with 3 Axes>"
            ],
            "image/png": "[encoded data removed]"
          },
          "metadata": {
            "needs_background": "light"
          }
        }
      ]
    },
    {
      "cell_type": "code",
      "source": [
        "#boxplot to compare education level among product users\n",
        "sns.boxplot(data = cardio, x = 'Product', y = 'Education');\n",
        "plt.title('Years in Education');"
      ],
      "metadata": {
        "colab": {
          "base_uri": "https://localhost:8080/",
          "height": 295
        },
        "id": "GLOaaMhKfaxr",
        "outputId": "93aa4571-5f3e-4b50-a4ec-191d5bec8042"
      },
      "execution_count": 24,
      "outputs": [
        {
          "output_type": "display_data",
          "data": {
            "text/plain": [
              "<Figure size 432x288 with 1 Axes>"
            ],
            "image/png": "[encoded data removed]"
          },
          "metadata": {
            "needs_background": "light"
          }
        }
      ]
    },
    {
      "cell_type": "markdown",
      "source": [
        "\n",
        "\n",
        "*   TM498 and TM195 product users appears to have the same distribution pattern for years of education. However, more customers in TM195 has spent up to 16 years  in education  possibly due to its larger share of customers\n",
        "*   TM798 users has the highest number of years in education with 14years as the minimum and 21years as maximum.\n",
        "\n"
      ],
      "metadata": {
        "id": "RuPJnZ3o6sLz"
      }
    },
    {
      "cell_type": "markdown",
      "source": [
        "**Observing Usage**"
      ],
      "metadata": {
        "id": "CBNkwXAy8reK"
      }
    },
    {
      "cell_type": "code",
      "source": [
        "#use the subplot function to display all products in the same line for better visual comparison\n",
        "fig, axs = plt.subplots(1, 3, figsize=(12, 5))\n",
        "\n",
        "# Use the histplot() function to create a histogram for each subplot\n",
        "sns.histplot(x='Usage', data=TM195, ax=axs[0])\n",
        "sns.histplot(x='Usage', data=TM498, ax=axs[1])\n",
        "sns.histplot(x='Usage', data=TM798, ax=axs[2])\n",
        "# Get the maximum y value across all subplots for uniform scaling\n",
        "\n",
        "y_max = max([ax.get_ylim()[1] for ax in axs])\n",
        "\n",
        "\n",
        "\n",
        "# Set the y-axis limits for all subplots to be the same\n",
        "for ax in axs:\n",
        "    ax.set_ylim(0, y_max)\n",
        "   \n",
        "\n",
        "# Add a title to each subplot\n",
        "axs[0].set_title(\"TM195 Product Usage\")\n",
        "axs[1].set_title(\"TM498 Product Usage\")\n",
        "axs[2].set_title(\"TM798 Product Usage\");"
      ],
      "metadata": {
        "colab": {
          "base_uri": "https://localhost:8080/",
          "height": 350
        },
        "id": "vK8MZEWm8voB",
        "outputId": "ba1f51fe-af66-4a56-8621-cbabe5c8c4e6"
      },
      "execution_count": 25,
      "outputs": [
        {
          "output_type": "display_data",
          "data": {
            "text/plain": [
              "<Figure size 864x360 with 3 Axes>"
            ],
            "image/png": "[encoded data removed]"
          },
          "metadata": {
            "needs_background": "light"
          }
        }
      ]
    },
    {
      "cell_type": "code",
      "source": [
        "#boxplot to compare usage among product users\n",
        "sns.boxplot(data = cardio, x = 'Product', y = 'Usage');\n",
        "plt.title('Product Usage');"
      ],
      "metadata": {
        "colab": {
          "base_uri": "https://localhost:8080/",
          "height": 295
        },
        "id": "8mQ8SNL0-Jnj",
        "outputId": "dea62c3c-e976-46c8-a914-31a916d2fafe"
      },
      "execution_count": 26,
      "outputs": [
        {
          "output_type": "display_data",
          "data": {
            "text/plain": [
              "<Figure size 432x288 with 1 Axes>"
            ],
            "image/png": "[encoded data removed]"
          },
          "metadata": {
            "needs_background": "light"
          }
        }
      ]
    },
    {
      "cell_type": "markdown",
      "source": [
        "\n",
        "\n",
        "*   Outliers observed for TM498 and TM798\n",
        "*   Average utilization of the products per week is shown to be highest in TM798\n"
      ],
      "metadata": {
        "id": "9GrE89OB-a7e"
      }
    },
    {
      "cell_type": "markdown",
      "source": [
        "**Observing Fitness**"
      ],
      "metadata": {
        "id": "K7lkihVE_C1X"
      }
    },
    {
      "cell_type": "code",
      "source": [
        "#use the subplot function to display all products in the same line for better visual comparison\n",
        "fig, axs = plt.subplots(1, 3, figsize=(12, 5))\n",
        "\n",
        "# Use the histplot() function to create a histogram for each subplot\n",
        "sns.histplot(x='Fitness', data=TM195, ax=axs[0])\n",
        "sns.histplot(x='Fitness', data=TM498, ax=axs[1])\n",
        "sns.histplot(x='Fitness', data=TM798, ax=axs[2])\n",
        "# Get the maximum y value across all subplots for uniform scaling\n",
        "\n",
        "y_max = max([ax.get_ylim()[1] for ax in axs])\n",
        "\n",
        "\n",
        "\n",
        "# Set the y-axis limits for all subplots to be the same\n",
        "for ax in axs:\n",
        "    ax.set_ylim(0, y_max)\n",
        "   \n",
        "\n",
        "# Add a title to each subplot\n",
        "axs[0].set_title(\"TM195 Fitness Score\")\n",
        "axs[1].set_title(\"TM498 Fitness Score\")\n",
        "axs[2].set_title(\"TM798 Fitness Score\");"
      ],
      "metadata": {
        "colab": {
          "base_uri": "https://localhost:8080/",
          "height": 350
        },
        "id": "38eV2Ss8-YPn",
        "outputId": "7fe0c076-9ef5-421a-894d-e7add4046cb3"
      },
      "execution_count": 27,
      "outputs": [
        {
          "output_type": "display_data",
          "data": {
            "text/plain": [
              "<Figure size 864x360 with 3 Axes>"
            ],
            "image/png": "[encoded data removed]"
          },
          "metadata": {
            "needs_background": "light"
          }
        }
      ]
    },
    {
      "cell_type": "code",
      "source": [
        "#boxplot to compare Fitness score among product users\n",
        "sns.boxplot(data = cardio, x = 'Product', y = 'Fitness')\n",
        "plt.title('Fitness Score');"
      ],
      "metadata": {
        "colab": {
          "base_uri": "https://localhost:8080/",
          "height": 295
        },
        "id": "fZxDSQEI_vsC",
        "outputId": "4ce74d46-47e4-4212-fac2-d9d9d16d4d42"
      },
      "execution_count": 28,
      "outputs": [
        {
          "output_type": "display_data",
          "data": {
            "text/plain": [
              "<Figure size 432x288 with 1 Axes>"
            ],
            "image/png": "[encoded data removed]"
          },
          "metadata": {
            "needs_background": "light"
          }
        }
      ]
    },
    {
      "cell_type": "markdown",
      "source": [
        "* Outliers exist for TM195 and TM498\n",
        "* Majority of customers using TM195 and TM498 are on fitness score 3 while for TM798, modal fitness score is above 4"
      ],
      "metadata": {
        "id": "ntkX92zvIH7k"
      }
    },
    {
      "cell_type": "markdown",
      "source": [
        "**Observing Income**\n"
      ],
      "metadata": {
        "id": "z0_UaWcGJK0Q"
      }
    },
    {
      "cell_type": "code",
      "source": [
        "#use the subplot function to display all products in the same line for better visual comparison\n",
        "fig, axs = plt.subplots(1, 3, figsize=(12, 5))\n",
        "\n",
        "# Use the histplot() function to create a histogram for each subplot\n",
        "sns.histplot(x='Income', data=TM195, ax=axs[0])\n",
        "sns.histplot(x='Income', data=TM498, ax=axs[1])\n",
        "sns.histplot(x='Income', data=TM798, ax=axs[2])\n",
        "# Get the maximum y value across all subplots for uniform scaling\n",
        "\n",
        "y_max = max([ax.get_ylim()[1] for ax in axs])\n",
        "\n",
        "\n",
        "\n",
        "# Set the y-axis limits for all subplots to be the same\n",
        "for ax in axs:\n",
        "    ax.set_ylim(0, y_max)\n",
        "   \n",
        "\n",
        "# Add a title to each subplot\n",
        "axs[0].set_title(\"TM195 Income level\")\n",
        "axs[1].set_title(\"TM498 Income level\")\n",
        "axs[2].set_title(\"TM798 Income level\");"
      ],
      "metadata": {
        "colab": {
          "base_uri": "https://localhost:8080/",
          "height": 350
        },
        "id": "JU6ZFjY5JQIO",
        "outputId": "972257a0-0804-411c-b601-dd60b5336779"
      },
      "execution_count": 29,
      "outputs": [
        {
          "output_type": "display_data",
          "data": {
            "text/plain": [
              "<Figure size 864x360 with 3 Axes>"
            ],
            "image/png": "[encoded data removed]"
          },
          "metadata": {
            "needs_background": "light"
          }
        }
      ]
    },
    {
      "cell_type": "code",
      "source": [
        "#boxplot to compare Income distribution among product users\n",
        "sns.boxplot(data = cardio, x = 'Product', y = 'Income')\n",
        "plt.title('Income');"
      ],
      "metadata": {
        "colab": {
          "base_uri": "https://localhost:8080/",
          "height": 295
        },
        "id": "yBE3jNmJJ9n0",
        "outputId": "53f4e66a-63ba-41d2-ec59-80505b29cc56"
      },
      "execution_count": 31,
      "outputs": [
        {
          "output_type": "display_data",
          "data": {
            "text/plain": [
              "<Figure size 432x288 with 1 Axes>"
            ],
            "image/png": "[encoded data removed]"
          },
          "metadata": {
            "needs_background": "light"
          }
        }
      ]
    },
    {
      "cell_type": "markdown",
      "source": [
        "\n",
        "\n",
        "*   TM798 subscribers are high income earners with median mark of about 76,000\n",
        "*   The lowest income earners can be found among TM195 customers\n",
        "* There is presence of outliers in TM498\n",
        "\n"
      ],
      "metadata": {
        "id": "J2LU3V1lKgX_"
      }
    },
    {
      "cell_type": "markdown",
      "source": [
        "**Observing Miles**"
      ],
      "metadata": {
        "id": "Txbuk9VxLdYm"
      }
    },
    {
      "cell_type": "code",
      "source": [
        "#use the subplot function to display all products in the same line for better visual comparison\n",
        "fig, axs = plt.subplots(1, 3, figsize=(12, 5))\n",
        "\n",
        "# Use the histplot() function to create a histogram for each subplot\n",
        "sns.histplot(x='Miles', data=TM195, ax=axs[0])\n",
        "sns.histplot(x='Miles', data=TM498, ax=axs[1])\n",
        "sns.histplot(x='Miles', data=TM798, ax=axs[2])\n",
        "# Get the maximum y value across all subplots for uniform scaling\n",
        "\n",
        "y_max = max([ax.get_ylim()[1] for ax in axs])\n",
        "\n",
        "\n",
        "\n",
        "# Set the y-axis limits for all subplots to be the same\n",
        "for ax in axs:\n",
        "    ax.set_ylim(0, y_max)\n",
        "   \n",
        "\n",
        "# Add a title to each subplot\n",
        "axs[0].set_title(\"TM195 Miles\")\n",
        "axs[1].set_title(\"TM498 Miles\")\n",
        "axs[2].set_title(\"TM798 Miles\");"
      ],
      "metadata": {
        "colab": {
          "base_uri": "https://localhost:8080/",
          "height": 350
        },
        "id": "dBdsQOl3LhVR",
        "outputId": "e72cde4d-5579-4213-ca84-c9d2cc58caec"
      },
      "execution_count": 33,
      "outputs": [
        {
          "output_type": "display_data",
          "data": {
            "text/plain": [
              "<Figure size 864x360 with 3 Axes>"
            ],
            "image/png": "[encoded data removed]"
          },
          "metadata": {
            "needs_background": "light"
          }
        }
      ]
    },
    {
      "cell_type": "code",
      "source": [
        "#boxplot to compare Miles among product users\n",
        "sns.boxplot(data = cardio, x = 'Product', y = 'Miles')\n",
        "plt.title('Miles');"
      ],
      "metadata": {
        "colab": {
          "base_uri": "https://localhost:8080/",
          "height": 295
        },
        "id": "bxyJEP17L7en",
        "outputId": "f8987f81-7549-4f69-8796-1f3ae41491e2"
      },
      "execution_count": 34,
      "outputs": [
        {
          "output_type": "display_data",
          "data": {
            "text/plain": [
              "<Figure size 432x288 with 1 Axes>"
            ],
            "image/png": "[encoded data removed]"
          },
          "metadata": {
            "needs_background": "light"
          }
        }
      ]
    },
    {
      "cell_type": "markdown",
      "source": [
        "* All products has few outliers\n",
        "* Expected mileage is highest in TM798 with the highest median mark observed.\n"
      ],
      "metadata": {
        "id": "___IhXU-MDCK"
      }
    },
    {
      "cell_type": "markdown",
      "source": [
        "## BIVARIATE ANALYSIS"
      ],
      "metadata": {
        "id": "PaCm2hUfMvTD"
      }
    },
    {
      "cell_type": "code",
      "source": [
        "#To view correlation among attributes in TM195 category using heatmap\n",
        "sns.heatmap(data = TM195[['Age','Income','Education','Miles','Fitness','Usage']].corr(), cbar = False, annot = True, cmap = 'YlGnBu')\n",
        "plt.title('Correlation Matrix for TM195');\n"
      ],
      "metadata": {
        "colab": {
          "base_uri": "https://localhost:8080/",
          "height": 281
        },
        "id": "X5zqRS0VNix4",
        "outputId": "bf3d169c-4695-4209-fda7-7c07de038cc1"
      },
      "execution_count": 35,
      "outputs": [
        {
          "output_type": "display_data",
          "data": {
            "text/plain": [
              "<Figure size 432x288 with 1 Axes>"
            ],
            "image/png": "[encoded data removed]"
          },
          "metadata": {
            "needs_background": "light"
          }
        }
      ]
    },
    {
      "cell_type": "markdown",
      "source": [
        "\n",
        "\n",
        "*   A strong positive correlation exists between the following pairs:\n",
        "* - age and income\n",
        "* - Miles and usage\n",
        "* - Miles and Fitness\n",
        "\n",
        "\n",
        "\n",
        "*   Education has weak correlation with other variables except income where it shows some level of correlation.\n",
        "*  Miles and usage are negatively correlated with Age and Income \n",
        "\n",
        "\n",
        "\n"
      ],
      "metadata": {
        "id": "cEOW9OsGh1-Z"
      }
    },
    {
      "cell_type": "code",
      "source": [
        "#To view correlation among attributes in TM498 category using heatmap\n",
        "sns.heatmap(data = TM498[['Age','Income','Education','Miles','Fitness','Usage']].corr(), cbar = False, annot = True, cmap = 'YlGnBu')\n",
        "plt.title('Correlation Matrix for TM498');"
      ],
      "metadata": {
        "colab": {
          "base_uri": "https://localhost:8080/",
          "height": 281
        },
        "id": "9ZadczAG4e2l",
        "outputId": "ab4e3878-7045-40f8-8049-eee97619eda9"
      },
      "execution_count": 36,
      "outputs": [
        {
          "output_type": "display_data",
          "data": {
            "text/plain": [
              "<Figure size 432x288 with 1 Axes>"
            ],
            "image/png": "[encoded data removed]"
          },
          "metadata": {
            "needs_background": "light"
          }
        }
      ]
    },
    {
      "cell_type": "markdown",
      "source": [
        "* A strong positive correlation exists between the following pairs:\n",
        "age and income,\n",
        "Miles and usage,\n",
        "Miles and Fitness,\n",
        "Education and income\n",
        "\n",
        "\n",
        "*  Education negatively correlates with Usage, Fitness and Miles \n",
        "*  Age has negative correlation with Usage, Fitness and Miles\n",
        "* Fitness and income has a negative correlation\n",
        "\n"
      ],
      "metadata": {
        "id": "86pROMNM5J8l"
      }
    },
    {
      "cell_type": "code",
      "source": [
        "#To view correlation among attributes in TM798 category using heatmap\n",
        "sns.heatmap(data = TM498[['Age','Income','Education','Miles','Fitness','Usage']].corr(), cbar = False, annot = True, cmap = 'YlGnBu')\n",
        "plt.title('Correlation Matrix for TM798');"
      ],
      "metadata": {
        "colab": {
          "base_uri": "https://localhost:8080/",
          "height": 281
        },
        "id": "o11dSYil7D-r",
        "outputId": "b4c70ba2-c72a-42db-bf9a-0150530eeeb0"
      },
      "execution_count": 5,
      "outputs": [
        {
          "output_type": "display_data",
          "data": {
            "text/plain": [
              "<Figure size 432x288 with 1 Axes>"
            ],
            "image/png": "[encoded data removed]"
          },
          "metadata": {
            "needs_background": "light"
          }
        }
      ]
    },
    {
      "cell_type": "markdown",
      "source": [
        "\n",
        "*   strong positive correlation exists between the following pairs: age and income, Miles and usage, Miles and Fitness, Education and income\n",
        "*   Education negatively correlates with Usage, Fitness and Miles\n",
        "* Age has negative correlation with Usage, Fitness and Miles while it has strong positive correlation with income\n"
      ],
      "metadata": {
        "id": "k_WmbWGX7byi"
      }
    },
    {
      "cell_type": "markdown",
      "source": [
        "# Key Insights highlighting differences between customer of each product:\n",
        "\n",
        "* Product TM195 has 80 customers\n",
        "*Product TM498 has 60 customers\n",
        "*Product TM798 has 40 customers\n",
        "\n",
        "\n",
        "**AGE**:The age profile of the customers for TMI95 is between 18yrs-50yrs old, TM498 is 19yrs-48yrs old while TM798 shows 22yrs-48yrs old. There is however, huge difference between the 75 percentile and maximum age value for all products suggesting presence of outliers, this is also evidenced in the high standard deviation in the variables.From the boxplot,Customers of TM798 are predominantly younger when compared to the other two products. The age variable is right skewed with the degree of skewness higher in TM798\n",
        "\n",
        "**EDUCATION**: Customers using TM798 appears to be the most educated as they are seen to have 75th percentile on 18years with a maximum value of 21years, this is higher than their peers in TM498 and TM195. TM498 and TM195 product users appears to have the same distribution pattern for years of education. However, more customers in TM195 has spent up to 16 years in education possibly due to its larger share of customers\n",
        "\n",
        "**USAGE**: Average usage times per week is also higher among TM798 customers when compared to other product customers\n",
        "\n",
        "**FITNESS**: Fitness score is higher in TM798 customers with minimum score of 3. Majority of customers using TM195 and TM498 are on fitness score 3 while for TM798, modal fitness score is above 4\n",
        "\n",
        "**INCOME**: The average customer income is lowest in TM195 customers while this is highest is TM798 customers. However, a high standard deviation and gap between 75th percentile and maximum value indicates presence of outliers. It can be deduced that TM798 subscribers are high income earners with median mark of about 76,000\n",
        "The lowest income earners can be found among TM195 customers. There is presence of outliers in TM498\n",
        "\n",
        "**MILES**:There is possible presence of outliers in all customer data as there is a huge gap between the 75th percentile and maximum value for all products.Expected mileage is highest in TM798 with the highest median mark observed.\n",
        "\n",
        "* There is an even distribution between male and female customers for TM195 suggesting this product appeals to both gender\n",
        "\n",
        "* TM498 uptake by male is slightly higher than that of female\n",
        "\n",
        "* There is a high significant  gap between male and female subscription for TM798. This product seems to be less attractive to the female. \n",
        "\n",
        "* Customers with status as partnered shows higher patronage across all products\n",
        "\n",
        "**For TM195:**\n",
        "* A strong positive correlation exists between the following pairs:\n",
        "** age and income\n",
        "** Miles and usage\n",
        "** Miles and Fitness\n",
        "\n",
        "\n",
        "* Education has weak correlation with other variables except income where it shows some level of correlation.\n",
        "\n",
        "* Miles and usage are negatively correlated with Age and Income\n",
        "\n",
        "**For TM498:**\n",
        "* A strong positive correlation exists between the following pairs: \n",
        "** age and income\n",
        "**  Miles and usage\n",
        "** Miles and Fitness\n",
        "** Education and income\n",
        "\n",
        "* Education negatively correlates with Usage, Fitness and Miles.\n",
        "* Age has negative correlation with Usage, Fitness and Miles\n",
        "* Fitness and income has a negative correlation\n",
        "\n",
        "\n",
        "**For TM798:**\n",
        "* strong positive correlation exists between the following pairs: \n",
        "** age and income\n",
        "** Miles and usage\n",
        "** Miles and Fitness\n",
        "** Education and income\n",
        "* Education negatively correlates with Usage, Fitness and Miles\n",
        "* Age has negative correlation with Usage, Fitness and Miles while it has strong positive correlation with income\n",
        "\n",
        "\n",
        "\n",
        "\n",
        "\n",
        "\n",
        "\n"
      ],
      "metadata": {
        "id": "W6ZmbOMXBcMx"
      }
    },
    {
      "cell_type": "markdown",
      "source": [
        "**Recommendations:**\n",
        "\n",
        "* TM798 seems to appeal more to the male folks, hence target market should focus on men to increase sales for this prticular product.\n",
        "* Marketing efforts should emphasize on ages between 18 and 33, while decreasing any marketing campaigns among the elderly. The negative correlation of age with miles, usage and fitness also corroborates this.\n",
        "* Strategic targeting of individuals with partners can also improve customer acquisition as they show more patronage than single persons across all products\n"
      ],
      "metadata": {
        "id": "HcopQTmeQoOb"
      }
    }
  ]
}